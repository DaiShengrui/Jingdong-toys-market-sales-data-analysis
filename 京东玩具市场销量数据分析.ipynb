{
 "cells": [
  {
   "cell_type": "markdown",
   "metadata": {
    "id": "B2573BEE6D9C482A8D46626B2F37BC98",
    "jupyter": {},
    "mdEditEnable": false,
    "notebookId": "66a370bd5091432f86a3668a",
    "runtime": {
     "execution_status": null,
     "is_visible": false,
     "status": "default"
    },
    "scrolled": false,
    "slideshow": {
     "slide_type": "slide"
    },
    "tags": []
   },
   "source": [
    "# 前言"
   ]
  },
  {
   "cell_type": "markdown",
   "metadata": {
    "id": "94E3692B25494404AE97E21BEB28EA82",
    "jupyter": {},
    "mdEditEnable": false,
    "notebookId": "66a370bd5091432f86a3668a",
    "runtime": {
     "execution_status": null,
     "is_visible": false,
     "status": "default"
    },
    "scrolled": false,
    "slideshow": {
     "slide_type": "slide"
    },
    "tags": []
   },
   "source": [
    "本项目根据以京东平台爬取的奥特曼、乐高、高达3类玩具的商品链接信息作为代表，对电商平台玩具的销售情况进行数据分析及可视化，试图解答以下问题：  \n",
    "- 最受欢迎的产品是什么？  \n",
    "- 什么品牌的产品单价最贵？  \n",
    "- 单价高的产品是否存在溢价？  \n",
    "- 能否给过年送礼一些建议？  \n",
    "- 消费者更喜欢在旗舰店购买产品吗？"
   ]
  },
  {
   "cell_type": "markdown",
   "metadata": {
    "id": "A294C457658E46638EBECA8347CDE823",
    "jupyter": {},
    "mdEditEnable": false,
    "notebookId": "66a370bd5091432f86a3668a",
    "runtime": {
     "execution_status": null,
     "is_visible": false,
     "status": "default"
    },
    "scrolled": false,
    "slideshow": {
     "slide_type": "slide"
    },
    "tags": []
   },
   "source": [
    "# 数据导入、组织与整理"
   ]
  },
  {
   "cell_type": "markdown",
   "metadata": {
    "id": "31BA101B038F4622B3590E597B8A682F",
    "jupyter": {},
    "mdEditEnable": false,
    "notebookId": "66a370bd5091432f86a3668a",
    "runtime": {
     "execution_status": null,
     "is_visible": false,
     "status": "default"
    },
    "scrolled": false,
    "slideshow": {
     "slide_type": "slide"
    },
    "tags": []
   },
   "source": [
    "## 准备"
   ]
  },
  {
   "cell_type": "code",
   "execution_count": 1,
   "metadata": {
    "collapsed": false,
    "id": "5750F8E40DA9468E8C9CEB41AB61DD27",
    "jupyter": {
     "outputs_hidden": false
    },
    "notebookId": "66a370bd5091432f86a3668a",
    "slideshow": {
     "slide_type": "slide"
    },
    "tags": []
   },
   "outputs": [],
   "source": [
    "#导入所需的包\n",
    "import pandas as pd\n",
    "import plotly.graph_objects as go\n",
    "import plotly.express as px\n",
    "import re\n",
    "import seaborn as sns\n",
    "import matplotlib.pyplot as plt\n",
    "from imageio import imread\n",
    "import numpy as np"
   ]
  },
  {
   "cell_type": "markdown",
   "metadata": {
    "id": "F67243054CF74AEE8968D7DD45246681",
    "jupyter": {},
    "mdEditEnable": false,
    "notebookId": "66a370bd5091432f86a3668a",
    "runtime": {
     "execution_status": null,
     "is_visible": false,
     "status": "default"
    },
    "scrolled": false,
    "slideshow": {
     "slide_type": "slide"
    },
    "tags": []
   },
   "source": [
    "## 导入数据"
   ]
  },
  {
   "cell_type": "code",
   "execution_count": 2,
   "metadata": {
    "collapsed": false,
    "id": "73A1CB262D9044D886A28ED08F5111D6",
    "jupyter": {
     "outputs_hidden": false
    },
    "notebookId": "66a370bd5091432f86a3668a",
    "slideshow": {
     "slide_type": "slide"
    },
    "tags": []
   },
   "outputs": [],
   "source": [
    "#导入数据\n",
    "outman=pd.read_csv(r'/home/kesci/input/M787596/6k奥特曼.csv')\n",
    "lego=pd.read_csv(r'/home/kesci/input/lego7292/京东-乐高.csv')\n",
    "gundam=pd.read_csv(r'/home/kesci/input/Gundam1376/6K高达.csv')"
   ]
  },
  {
   "cell_type": "markdown",
   "metadata": {
    "id": "393D18F52FB34ED1858B5C21462BA0E0",
    "jupyter": {},
    "mdEditEnable": false,
    "notebookId": "66a370bd5091432f86a3668a",
    "runtime": {
     "execution_status": null,
     "is_visible": false,
     "status": "default"
    },
    "scrolled": false,
    "slideshow": {
     "slide_type": "slide"
    },
    "tags": []
   },
   "source": [
    "## 数据处理"
   ]
  },
  {
   "cell_type": "markdown",
   "metadata": {
    "id": "2BD598C8253F491F8B851861642B9404",
    "jupyter": {},
    "mdEditEnable": false,
    "notebookId": "66a370bd5091432f86a3668a",
    "runtime": {
     "execution_status": null,
     "is_visible": false,
     "status": "default"
    },
    "scrolled": false,
    "slideshow": {
     "slide_type": "slide"
    },
    "tags": []
   },
   "source": [
    "通过预览数据，发现在评价人数字段中，存在大量回车、制表符以及用汉字万代表万元的问题，需进行数据处理。  \n",
    "另外，为了后续数据分析需要，需通过店铺名称判断，为每条数据进行分类（店铺名含“京东”的，认为是京东自营，含“旗舰店”的，认为是品牌旗舰店，其他店铺归为其他类。）"
   ]
  },
  {
   "cell_type": "code",
   "execution_count": 3,
   "metadata": {
    "collapsed": false,
    "id": "11EDCCDC69EE465B944845D7F75DC985",
    "jupyter": {
     "outputs_hidden": false
    },
    "notebookId": "66a370bd5091432f86a3668a",
    "slideshow": {
     "slide_type": "slide"
    },
    "tags": []
   },
   "outputs": [],
   "source": [
    "#定义函数，提取字符串中的数字，同时对字符串中包含“万“或无数字的情况进行处理。\n",
    "def wan_remove(s):\n",
    "    s=str(s)#将输入强制转换为字符串\n",
    "    s=s.replace('\\n','')\n",
    "    s=s.replace('\\t','')\n",
    "    if re.match('.*万.*',s)!=None:#如果字符串中包含”万”，则提取字符串中的数字，并乘以10000作为结果返回\n",
    "        r=float(re.match('(.*?)(\\d+\\.\\d+|\\d+)(万+)(.*)',s).group(2))*10000.0\n",
    "    else:#如果不包含“万“\n",
    "        try:#尝试提取数字，并作为结果返回\n",
    "            r=float(re.match('(.*?)(\\d+\\.\\d+|\\d+)(.*)',s).group(2))\n",
    "        except:#如果字符串为空或提取不到数字，则返回0\n",
    "            r=0.0\n",
    "    return r"
   ]
  },
  {
   "cell_type": "code",
   "execution_count": 4,
   "metadata": {
    "collapsed": false,
    "id": "A7CBC1AAB917454D9C69FEE30CAAC80C",
    "jupyter": {
     "outputs_hidden": false
    },
    "notebookId": "66a370bd5091432f86a3668a",
    "slideshow": {
     "slide_type": "slide"
    },
    "tags": []
   },
   "outputs": [],
   "source": [
    "#定义函数，为店铺分类，根据店铺属性，分为京东自营、品牌旗舰店和其他3类\n",
    "def categorize(s):\n",
    "    s=str(s)\n",
    "    if re.match('.*京东.*',s)!=None:\n",
    "        r='京东自营'\n",
    "    elif re.match('.*旗舰.*',s)!=None:\n",
    "        r='品牌旗舰店'\n",
    "    else:\n",
    "        r='其他'\n",
    "    return r"
   ]
  },
  {
   "cell_type": "code",
   "execution_count": 5,
   "metadata": {
    "collapsed": false,
    "id": "20D561D52AAD49F6AA6DCF5D28BEB175",
    "jupyter": {
     "outputs_hidden": false
    },
    "notebookId": "66a370bd5091432f86a3668a",
    "slideshow": {
     "slide_type": "slide"
    },
    "tags": []
   },
   "outputs": [],
   "source": [
    "#利用以上函数，从评价人数中抽取热度字段，从商家店名中抽取类型字段，按照商品SKU进行排重\n",
    "for i in [outman, lego, gundam]:\n",
    "    i['热度']=i.评价人数.apply(wan_remove)\n",
    "    i['类型']=i.商家店名.apply(categorize)\n",
    "    i.drop_duplicates(['商品SKU'], inplace=True)"
   ]
  },
  {
   "cell_type": "code",
   "execution_count": 6,
   "metadata": {
    "collapsed": false,
    "id": "8C66DA7D206C41DAAFDE3761E80CD90A",
    "jupyter": {
     "outputs_hidden": false
    },
    "notebookId": "66a370bd5091432f86a3668a",
    "slideshow": {
     "slide_type": "slide"
    },
    "tags": []
   },
   "outputs": [],
   "source": [
    "#拼接整体数据toys，并按照商品SKU进行排重\n",
    "toys=pd.DataFrame()\n",
    "for i in [outman, lego, gundam]:\n",
    "    toys=pd.concat([toys,i])\n",
    "toys.drop_duplicates(['商品SKU'], inplace=True)\n",
    "toys.reset_index(inplace=True,drop=True)"
   ]
  },
  {
   "cell_type": "markdown",
   "metadata": {
    "id": "1096E7AEC1784F658D17DC0164466802",
    "jupyter": {},
    "mdEditEnable": false,
    "notebookId": "66a370bd5091432f86a3668a",
    "runtime": {
     "execution_status": null,
     "is_visible": false,
     "status": "default"
    },
    "scrolled": false,
    "slideshow": {
     "slide_type": "slide"
    },
    "tags": []
   },
   "source": [
    "浏览数据："
   ]
  },
  {
   "cell_type": "code",
   "execution_count": 7,
   "metadata": {
    "collapsed": false,
    "id": "5D7D0965EECA4EA4834DE8A1F774B948",
    "jupyter": {
     "outputs_hidden": false
    },
    "notebookId": "66a370bd5091432f86a3668a",
    "slideshow": {
     "slide_type": "slide"
    },
    "tags": []
   },
   "outputs": [
    {
     "data": {
      "text/html": [
       "<div>\n",
       "<style scoped>\n",
       "    .dataframe tbody tr th:only-of-type {\n",
       "        vertical-align: middle;\n",
       "    }\n",
       "\n",
       "    .dataframe tbody tr th {\n",
       "        vertical-align: top;\n",
       "    }\n",
       "\n",
       "    .dataframe thead th {\n",
       "        text-align: right;\n",
       "    }\n",
       "</style>\n",
       "<table border=\"1\" class=\"dataframe\">\n",
       "  <thead>\n",
       "    <tr style=\"text-align: right;\">\n",
       "      <th></th>\n",
       "      <th>搜索关键词</th>\n",
       "      <th>商品名称</th>\n",
       "      <th>商品SKU</th>\n",
       "      <th>商品链接</th>\n",
       "      <th>封面图链接</th>\n",
       "      <th>价格</th>\n",
       "      <th>评价人数</th>\n",
       "      <th>评论链接</th>\n",
       "      <th>商家店名</th>\n",
       "      <th>店铺链接</th>\n",
       "      <th>标签</th>\n",
       "      <th>是否广告</th>\n",
       "      <th>页码</th>\n",
       "      <th>当前时间</th>\n",
       "      <th>页面网址</th>\n",
       "      <th>热度</th>\n",
       "      <th>类型</th>\n",
       "    </tr>\n",
       "  </thead>\n",
       "  <tbody>\n",
       "    <tr>\n",
       "      <th>0</th>\n",
       "      <td>万代奥特曼</td>\n",
       "      <td>万代（BANDAI） 超可动 奥特曼 手办模型玩具 16cm 超可动 究极赛罗帕拉吉之盾</td>\n",
       "      <td>14018101327</td>\n",
       "      <td>https://item.jd.com/14018101327.html</td>\n",
       "      <td>https://img12.360buyimg.com/n7/jfs/t23992/257/...</td>\n",
       "      <td>99.0</td>\n",
       "      <td>\\n\\t\\t\\t\\t\\t\\t\\t7000+\\n\\t\\t\\t\\t\\t\\t</td>\n",
       "      <td>https://item.jd.com/14018101327.html#comment</td>\n",
       "      <td>梅利玩具专营店</td>\n",
       "      <td>https://mall.jd.com/index-213319.html?from=pc</td>\n",
       "      <td>京东物流/\\r\\n2件9.8折/\\r\\n满赠/</td>\n",
       "      <td>否</td>\n",
       "      <td>1</td>\n",
       "      <td>2021-01-27 18:34:00</td>\n",
       "      <td>https://search.jd.com/Search?keyword=%E4%B8%87...</td>\n",
       "      <td>7000.0</td>\n",
       "      <td>其他</td>\n",
       "    </tr>\n",
       "    <tr>\n",
       "      <th>1</th>\n",
       "      <td>万代奥特曼</td>\n",
       "      <td>万代（BANDAI）罗布奥特曼变身器罗索布鲁水晶DX泽塔升华器勋章收纳盒回旋闪光儿童玩具 豪...</td>\n",
       "      <td>70265614548</td>\n",
       "      <td>https://item.jd.com/70265614548.html</td>\n",
       "      <td>https://img13.360buyimg.com/n7/jfs/t1/150978/1...</td>\n",
       "      <td>730.0</td>\n",
       "      <td>\\n\\t\\t\\t\\t\\t\\t\\t600+\\n\\t\\t\\t\\t\\t\\t</td>\n",
       "      <td>https://item.jd.com/70265614548.html#comment</td>\n",
       "      <td>聚仁益智玩具专营店</td>\n",
       "      <td>https://mall.jd.com/index-751426.html?from=pc</td>\n",
       "      <td>NaN</td>\n",
       "      <td>广告</td>\n",
       "      <td>1</td>\n",
       "      <td>2021-01-27 18:34:00</td>\n",
       "      <td>https://search.jd.com/Search?keyword=%E4%B8%87...</td>\n",
       "      <td>600.0</td>\n",
       "      <td>其他</td>\n",
       "    </tr>\n",
       "    <tr>\n",
       "      <th>2</th>\n",
       "      <td>万代奥特曼</td>\n",
       "      <td>京东超市\\t\\n万代BANDAI奥特曼儿童玩具男孩动漫周边英雄超人赛罗奥特曼豪华版关节可动2...</td>\n",
       "      <td>100014813956</td>\n",
       "      <td>https://item.jd.com/100014813956.html</td>\n",
       "      <td>https://img11.360buyimg.com/n7/jfs/t1/150110/4...</td>\n",
       "      <td>129.0</td>\n",
       "      <td>\\n\\t\\t\\t\\t\\t\\t\\t3000+\\n\\t\\t\\t\\t\\t\\t</td>\n",
       "      <td>https://item.jd.com/100014813956.html#comment</td>\n",
       "      <td>BANDAI万代奥特曼京东自营专区</td>\n",
       "      <td>https://mall.jd.com/index-1000353402.html?from=pc</td>\n",
       "      <td>自营/\\r\\n放心购/\\r\\n满199-20/</td>\n",
       "      <td>否</td>\n",
       "      <td>1</td>\n",
       "      <td>2021-01-27 18:34:00</td>\n",
       "      <td>https://search.jd.com/Search?keyword=%E4%B8%87...</td>\n",
       "      <td>3000.0</td>\n",
       "      <td>京东自营</td>\n",
       "    </tr>\n",
       "    <tr>\n",
       "      <th>3</th>\n",
       "      <td>万代奥特曼</td>\n",
       "      <td>万代 SHF成品可动模型手办  S.H.Figuarts奥特曼 Z泽塔赛罗捷德迪迦泰迦贝利亚...</td>\n",
       "      <td>10026088996068</td>\n",
       "      <td>https://item.jd.com/10026088996068.html</td>\n",
       "      <td>https://img13.360buyimg.com/n7/jfs/t1/167886/1...</td>\n",
       "      <td>279.0</td>\n",
       "      <td>\\n\\t\\t\\t\\t\\t\\t\\t100+\\n\\t\\t\\t\\t\\t\\t</td>\n",
       "      <td>https://item.jd.com/10026088996068.html#comment</td>\n",
       "      <td>大白鲸动漫专营店</td>\n",
       "      <td>https://mall.jd.com/index-139432.html?from=pc</td>\n",
       "      <td>免邮/</td>\n",
       "      <td>否</td>\n",
       "      <td>1</td>\n",
       "      <td>2021-01-27 18:34:01</td>\n",
       "      <td>https://search.jd.com/Search?keyword=%E4%B8%87...</td>\n",
       "      <td>100.0</td>\n",
       "      <td>其他</td>\n",
       "    </tr>\n",
       "    <tr>\n",
       "      <th>4</th>\n",
       "      <td>万代奥特曼</td>\n",
       "      <td>京东超市\\t\\n万代BANDAI奥特曼儿童玩具男孩动漫周边英雄超人怪兽奈克赛斯奥特曼蓝色成年...</td>\n",
       "      <td>100003490309</td>\n",
       "      <td>https://item.jd.com/100003490309.html</td>\n",
       "      <td>https://img14.360buyimg.com/n7/jfs/t29335/183/...</td>\n",
       "      <td>79.0</td>\n",
       "      <td>\\n\\t\\t\\t\\t\\t\\t\\t1万+\\n\\t\\t\\t\\t\\t\\t</td>\n",
       "      <td>https://item.jd.com/100003490309.html#comment</td>\n",
       "      <td>BANDAI万代奥特曼京东自营专区</td>\n",
       "      <td>https://mall.jd.com/index-1000353402.html?from=pc</td>\n",
       "      <td>自营/\\r\\n放心购/\\r\\n券199-100/</td>\n",
       "      <td>否</td>\n",
       "      <td>1</td>\n",
       "      <td>2021-01-27 18:34:01</td>\n",
       "      <td>https://search.jd.com/Search?keyword=%E4%B8%87...</td>\n",
       "      <td>10000.0</td>\n",
       "      <td>京东自营</td>\n",
       "    </tr>\n",
       "  </tbody>\n",
       "</table>\n",
       "</div>"
      ],
      "text/plain": [
       "   搜索关键词                                               商品名称           商品SKU  \\\n",
       "0  万代奥特曼       万代（BANDAI） 超可动 奥特曼 手办模型玩具 16cm 超可动 究极赛罗帕拉吉之盾     14018101327   \n",
       "1  万代奥特曼  万代（BANDAI）罗布奥特曼变身器罗索布鲁水晶DX泽塔升华器勋章收纳盒回旋闪光儿童玩具 豪...     70265614548   \n",
       "2  万代奥特曼  京东超市\\t\\n万代BANDAI奥特曼儿童玩具男孩动漫周边英雄超人赛罗奥特曼豪华版关节可动2...    100014813956   \n",
       "3  万代奥特曼  万代 SHF成品可动模型手办  S.H.Figuarts奥特曼 Z泽塔赛罗捷德迪迦泰迦贝利亚...  10026088996068   \n",
       "4  万代奥特曼  京东超市\\t\\n万代BANDAI奥特曼儿童玩具男孩动漫周边英雄超人怪兽奈克赛斯奥特曼蓝色成年...    100003490309   \n",
       "\n",
       "                                      商品链接  \\\n",
       "0     https://item.jd.com/14018101327.html   \n",
       "1     https://item.jd.com/70265614548.html   \n",
       "2    https://item.jd.com/100014813956.html   \n",
       "3  https://item.jd.com/10026088996068.html   \n",
       "4    https://item.jd.com/100003490309.html   \n",
       "\n",
       "                                               封面图链接     价格  \\\n",
       "0  https://img12.360buyimg.com/n7/jfs/t23992/257/...   99.0   \n",
       "1  https://img13.360buyimg.com/n7/jfs/t1/150978/1...  730.0   \n",
       "2  https://img11.360buyimg.com/n7/jfs/t1/150110/4...  129.0   \n",
       "3  https://img13.360buyimg.com/n7/jfs/t1/167886/1...  279.0   \n",
       "4  https://img14.360buyimg.com/n7/jfs/t29335/183/...   79.0   \n",
       "\n",
       "                                  评价人数  \\\n",
       "0  \\n\\t\\t\\t\\t\\t\\t\\t7000+\\n\\t\\t\\t\\t\\t\\t   \n",
       "1   \\n\\t\\t\\t\\t\\t\\t\\t600+\\n\\t\\t\\t\\t\\t\\t   \n",
       "2  \\n\\t\\t\\t\\t\\t\\t\\t3000+\\n\\t\\t\\t\\t\\t\\t   \n",
       "3   \\n\\t\\t\\t\\t\\t\\t\\t100+\\n\\t\\t\\t\\t\\t\\t   \n",
       "4    \\n\\t\\t\\t\\t\\t\\t\\t1万+\\n\\t\\t\\t\\t\\t\\t   \n",
       "\n",
       "                                              评论链接               商家店名  \\\n",
       "0     https://item.jd.com/14018101327.html#comment            梅利玩具专营店   \n",
       "1     https://item.jd.com/70265614548.html#comment          聚仁益智玩具专营店   \n",
       "2    https://item.jd.com/100014813956.html#comment  BANDAI万代奥特曼京东自营专区   \n",
       "3  https://item.jd.com/10026088996068.html#comment           大白鲸动漫专营店   \n",
       "4    https://item.jd.com/100003490309.html#comment  BANDAI万代奥特曼京东自营专区   \n",
       "\n",
       "                                                店铺链接  \\\n",
       "0      https://mall.jd.com/index-213319.html?from=pc   \n",
       "1      https://mall.jd.com/index-751426.html?from=pc   \n",
       "2  https://mall.jd.com/index-1000353402.html?from=pc   \n",
       "3      https://mall.jd.com/index-139432.html?from=pc   \n",
       "4  https://mall.jd.com/index-1000353402.html?from=pc   \n",
       "\n",
       "                         标签 是否广告  页码                 当前时间  \\\n",
       "0   京东物流/\\r\\n2件9.8折/\\r\\n满赠/    否   1  2021-01-27 18:34:00   \n",
       "1                       NaN   广告   1  2021-01-27 18:34:00   \n",
       "2   自营/\\r\\n放心购/\\r\\n满199-20/    否   1  2021-01-27 18:34:00   \n",
       "3                       免邮/    否   1  2021-01-27 18:34:01   \n",
       "4  自营/\\r\\n放心购/\\r\\n券199-100/    否   1  2021-01-27 18:34:01   \n",
       "\n",
       "                                                页面网址       热度    类型  \n",
       "0  https://search.jd.com/Search?keyword=%E4%B8%87...   7000.0    其他  \n",
       "1  https://search.jd.com/Search?keyword=%E4%B8%87...    600.0    其他  \n",
       "2  https://search.jd.com/Search?keyword=%E4%B8%87...   3000.0  京东自营  \n",
       "3  https://search.jd.com/Search?keyword=%E4%B8%87...    100.0    其他  \n",
       "4  https://search.jd.com/Search?keyword=%E4%B8%87...  10000.0  京东自营  "
      ]
     },
     "execution_count": 7,
     "metadata": {},
     "output_type": "execute_result"
    }
   ],
   "source": [
    "toys.head()"
   ]
  },
  {
   "cell_type": "code",
   "execution_count": 8,
   "metadata": {
    "collapsed": false,
    "id": "CE2E9517AC944929965C7A81F1AF85CB",
    "jupyter": {
     "outputs_hidden": false
    },
    "notebookId": "66a370bd5091432f86a3668a",
    "slideshow": {
     "slide_type": "slide"
    },
    "tags": []
   },
   "outputs": [
    {
     "name": "stdout",
     "output_type": "stream",
     "text": [
      "<class 'pandas.core.frame.DataFrame'>\n",
      "RangeIndex: 17706 entries, 0 to 17705\n",
      "Data columns (total 17 columns):\n",
      "搜索关键词    17706 non-null object\n",
      "商品名称     17706 non-null object\n",
      "商品SKU    17706 non-null int64\n",
      "商品链接     17706 non-null object\n",
      "封面图链接    17706 non-null object\n",
      "价格       17706 non-null float64\n",
      "评价人数     17706 non-null object\n",
      "评论链接     17706 non-null object\n",
      "商家店名     17702 non-null object\n",
      "店铺链接     17702 non-null object\n",
      "标签       14293 non-null object\n",
      "是否广告     17706 non-null object\n",
      "页码       17706 non-null int64\n",
      "当前时间     17706 non-null object\n",
      "页面网址     17706 non-null object\n",
      "热度       17706 non-null float64\n",
      "类型       17706 non-null object\n",
      "dtypes: float64(2), int64(2), object(13)\n",
      "memory usage: 2.3+ MB\n"
     ]
    }
   ],
   "source": [
    "toys.info()"
   ]
  },
  {
   "cell_type": "markdown",
   "metadata": {
    "id": "58E6A00BA79248AC84E81154E57CF5E3",
    "jupyter": {},
    "mdEditEnable": false,
    "notebookId": "66a370bd5091432f86a3668a",
    "runtime": {
     "execution_status": null,
     "is_visible": false,
     "status": "default"
    },
    "scrolled": false,
    "slideshow": {
     "slide_type": "slide"
    },
    "tags": []
   },
   "source": [
    "# 数据探索"
   ]
  },
  {
   "cell_type": "markdown",
   "metadata": {
    "id": "01FD0119334E45B78A8E7CCE6A7ED7A0",
    "jupyter": {},
    "mdEditEnable": false,
    "notebookId": "66a370bd5091432f86a3668a",
    "runtime": {
     "execution_status": null,
     "is_visible": false,
     "status": "default"
    },
    "scrolled": false,
    "slideshow": {
     "slide_type": "slide"
    },
    "tags": []
   },
   "source": [
    "由于本次爬取的数据中并不包含单个商品实际购买数量，因此，我们用评论条数（只有购买的人可以进行评论）近似反映商品受欢迎的程度。以下我们来看看最受欢迎的玩具、最贵的玩具分别是什么。"
   ]
  },
  {
   "cell_type": "code",
   "execution_count": 9,
   "metadata": {
    "collapsed": false,
    "id": "FC8EF36B1E11447DA2E7610E8E980C11",
    "jupyter": {
     "outputs_hidden": false
    },
    "notebookId": "66a370bd5091432f86a3668a",
    "slideshow": {
     "slide_type": "slide"
    },
    "tags": []
   },
   "outputs": [],
   "source": [
    "#定义函数，按照数据行，抽取商品相关信息（包括图片），进行直观展示\n",
    "def show_pic(row):\n",
    "    print('-'*35,end='')\n",
    "    print('%s : %s'%(row.类型, row.搜索关键词), end='')\n",
    "    print('-'*35)    \n",
    "    print(row.商品名称)\n",
    "    print('价格：￥ %.2f' % row.价格)\n",
    "    print('热度：%.2f' % row.热度)\n",
    "    link=row.封面图链接\n",
    "    img=imread(link)    \n",
    "    plt.figure(figsize=(7,7))\n",
    "    plt.imshow(img,aspect='equal')\n",
    "    plt.axis(\"off\")\n",
    "    plt.show()"
   ]
  },
  {
   "cell_type": "markdown",
   "metadata": {
    "id": "EB97AD49077749BA84D16E446E70D76F",
    "jupyter": {},
    "mdEditEnable": false,
    "notebookId": "66a370bd5091432f86a3668a",
    "runtime": {
     "execution_status": null,
     "is_visible": false,
     "status": "default"
    },
    "scrolled": false,
    "slideshow": {
     "slide_type": "slide"
    },
    "tags": []
   },
   "source": [
    "## 最受欢迎的产品"
   ]
  },
  {
   "cell_type": "code",
   "execution_count": 10,
   "metadata": {
    "collapsed": false,
    "id": "473F7D9F0D5C4C52B6558656DE742B90",
    "jupyter": {
     "outputs_hidden": false
    },
    "notebookId": "66a370bd5091432f86a3668a",
    "slideshow": {
     "slide_type": "slide"
    },
    "tags": []
   },
   "outputs": [
    {
     "name": "stdout",
     "output_type": "stream",
     "text": [
      "-----------------------------------京东自营 : 乐高-----------------------------------\n",
      "京东超市\t\n",
      "乐高(LEGO)积木 经典创意10698 大号积木盒 4-99岁 儿童玩具 男孩女孩 生日新年礼物 小颗粒\n",
      "价格：￥ 419.00\n",
      "热度：300000.00\n"
     ]
    },
    {
     "data": {
      "text/html": [
       "<img src=\"https://cdn.kesci.com/upload/rt/473F7D9F0D5C4C52B6558656DE742B90/sjjmvcw2z9.png\">"
      ],
      "text/plain": [
       "<Figure size 504x504 with 1 Axes>"
      ]
     },
     "metadata": {
      "needs_background": "light"
     },
     "output_type": "display_data"
    }
   ],
   "source": [
    "ix=toys.热度.idxmax()\n",
    "show_pic(toys.iloc[ix])"
   ]
  },
  {
   "cell_type": "markdown",
   "metadata": {
    "id": "8652F2BDBE7644389EE76C36C4AC6D16",
    "jupyter": {},
    "mdEditEnable": false,
    "notebookId": "66a370bd5091432f86a3668a",
    "runtime": {
     "execution_status": null,
     "is_visible": false,
     "status": "default"
    },
    "scrolled": false,
    "slideshow": {
     "slide_type": "slide"
    },
    "tags": []
   },
   "source": [
    "可以看到乐高的这款大号经典创意盒，评论条数达到了30万+，是所有玩具中最高的，推测原因有二：  \n",
    "- 商品本身是乐高产品系列中价格适中，性价比较高的产品，销售量本身比较高  \n",
    "- 来自京东自营店铺，店铺本身较高的信用度等也吸引了较多的消费者"
   ]
  },
  {
   "cell_type": "markdown",
   "metadata": {
    "id": "EFA56443A88841D6853F13F1659BC3C1",
    "jupyter": {},
    "mdEditEnable": false,
    "notebookId": "66a370bd5091432f86a3668a",
    "runtime": {
     "execution_status": null,
     "is_visible": false,
     "status": "default"
    },
    "scrolled": false,
    "slideshow": {
     "slide_type": "slide"
    },
    "tags": []
   },
   "source": [
    "## 最贵的产品"
   ]
  },
  {
   "cell_type": "code",
   "execution_count": 11,
   "metadata": {
    "collapsed": false,
    "id": "EE2409CEFE104EC38229FD883D170C41",
    "jupyter": {
     "outputs_hidden": false
    },
    "notebookId": "66a370bd5091432f86a3668a",
    "slideshow": {
     "slide_type": "slide"
    },
    "tags": []
   },
   "outputs": [
    {
     "name": "stdout",
     "output_type": "stream",
     "text": [
      "-----------------------------------其他 : 乐高-----------------------------------\n",
      "乐高 LEGO 10196 旋转木马 绝版 积木玩具\n",
      "价格：￥ 39980.00\n",
      "热度：0.00\n"
     ]
    },
    {
     "data": {
      "text/html": [
       "<img src=\"https://cdn.kesci.com/upload/rt/EE2409CEFE104EC38229FD883D170C41/sjjmvdm3rv.png\">"
      ],
      "text/plain": [
       "<Figure size 504x504 with 1 Axes>"
      ]
     },
     "metadata": {
      "needs_background": "light"
     },
     "output_type": "display_data"
    }
   ],
   "source": [
    "ix=toys.价格.idxmax()\n",
    "show_pic(toys.iloc[ix])"
   ]
  },
  {
   "cell_type": "markdown",
   "metadata": {
    "id": "D44AB73E6DCA4EB0AB084334D856F07A",
    "jupyter": {},
    "mdEditEnable": false,
    "notebookId": "66a370bd5091432f86a3668a",
    "runtime": {
     "execution_status": null,
     "is_visible": false,
     "status": "default"
    },
    "scrolled": false,
    "slideshow": {
     "slide_type": "slide"
    },
    "tags": []
   },
   "source": [
    "可以看到乐高的这款绝版旋转木马单价达到了近4万，是所有玩具中最高的，推测原因如下：  \n",
    "- 绝版玩具，具有一定收藏价值  \n",
    "- 玩具由其他类型商家销售，商品售价本身可能存在一定程度的虚高（从商品热度为0这一点也可以侧面印证）  \n",
    "此外，我们可以尝试搜索其他商家，看是否同样的产品有更低的售价"
   ]
  },
  {
   "cell_type": "code",
   "execution_count": 12,
   "metadata": {
    "collapsed": false,
    "id": "CB17E3807E064EBAA056F8F2542BFDE6",
    "jupyter": {
     "outputs_hidden": false
    },
    "notebookId": "66a370bd5091432f86a3668a",
    "slideshow": {
     "slide_type": "slide"
    },
    "tags": []
   },
   "outputs": [
    {
     "name": "stdout",
     "output_type": "stream",
     "text": [
      "-----------------------------------其他 : 乐高-----------------------------------\n",
      "乐高LEGO三合一创意creator系列恐龙汽车动物房屋积木三种拼法小颗粒拼装积木玩具 31095 游乐场旋转木马\n",
      "价格：￥ 369.00\n",
      "热度：3000.00\n"
     ]
    },
    {
     "data": {
      "text/html": [
       "<img src=\"https://cdn.kesci.com/upload/rt/CB17E3807E064EBAA056F8F2542BFDE6/sjjmvdbk1k.png\">"
      ],
      "text/plain": [
       "<Figure size 504x504 with 1 Axes>"
      ]
     },
     "metadata": {
      "needs_background": "light"
     },
     "output_type": "display_data"
    },
    {
     "name": "stdout",
     "output_type": "stream",
     "text": [
      "-----------------------------------其他 : 乐高-----------------------------------\n",
      "乐高 LEGO 10196 旋转木马 绝版 积木玩具\n",
      "价格：￥ 39980.00\n",
      "热度：0.00\n"
     ]
    },
    {
     "data": {
      "text/html": [
       "<img src=\"https://cdn.kesci.com/upload/rt/CB17E3807E064EBAA056F8F2542BFDE6/sjjmvdwa5.png\">"
      ],
      "text/plain": [
       "<Figure size 504x504 with 1 Axes>"
      ]
     },
     "metadata": {
      "needs_background": "light"
     },
     "output_type": "display_data"
    },
    {
     "name": "stdout",
     "output_type": "stream",
     "text": [
      "-----------------------------------其他 : 乐高-----------------------------------\n",
      "乐高LEGO 创意百变三合一 儿童益智积木 拼插玩具 小颗粒 31095 游乐场旋转木马\n",
      "价格：￥ 369.00\n",
      "热度：100.00\n"
     ]
    },
    {
     "data": {
      "text/html": [
       "<img src=\"https://cdn.kesci.com/upload/rt/CB17E3807E064EBAA056F8F2542BFDE6/sjjmvefhys.png\">"
      ],
      "text/plain": [
       "<Figure size 504x504 with 1 Axes>"
      ]
     },
     "metadata": {
      "needs_background": "light"
     },
     "output_type": "display_data"
    },
    {
     "name": "stdout",
     "output_type": "stream",
     "text": [
      "-----------------------------------其他 : 乐高-----------------------------------\n",
      "乐高（LEGO）乐高积木玩具恐龙飞机赛车汽车创意百变三合一系列 法拉利赛车 儿童玩具 男孩玩具 31095 游乐场+旋转木马+摩天轮（595粒）\n",
      "价格：￥ 439.00\n",
      "热度：7000.00\n"
     ]
    },
    {
     "data": {
      "text/html": [
       "<img src=\"https://cdn.kesci.com/upload/rt/CB17E3807E064EBAA056F8F2542BFDE6/sjjmver3i6.png\">"
      ],
      "text/plain": [
       "<Figure size 504x504 with 1 Axes>"
      ]
     },
     "metadata": {
      "needs_background": "light"
     },
     "output_type": "display_data"
    },
    {
     "name": "stdout",
     "output_type": "stream",
     "text": [
      "-----------------------------------其他 : 乐高-----------------------------------\n",
      "乐高LEGO 创意百变高手 街景 建筑 男孩女孩 礼物 益智积木玩具 10257 旋转木马\n",
      "价格：￥ 3998.00\n",
      "热度：75.00\n"
     ]
    },
    {
     "data": {
      "text/html": [
       "<img src=\"https://cdn.kesci.com/upload/rt/CB17E3807E064EBAA056F8F2542BFDE6/sjjmvfhm4e.png\">"
      ],
      "text/plain": [
       "<Figure size 504x504 with 1 Axes>"
      ]
     },
     "metadata": {
      "needs_background": "light"
     },
     "output_type": "display_data"
    },
    {
     "name": "stdout",
     "output_type": "stream",
     "text": [
      "-----------------------------------其他 : 乐高-----------------------------------\n",
      "LEGO 乐高 创意系专家系列 Creator Expert 旋转木马 10257\n",
      "价格：￥ 4699.00\n",
      "热度：100.00\n"
     ]
    },
    {
     "data": {
      "text/html": [
       "<img src=\"https://cdn.kesci.com/upload/rt/CB17E3807E064EBAA056F8F2542BFDE6/sjjmvfcaks.png\">"
      ],
      "text/plain": [
       "<Figure size 504x504 with 1 Axes>"
      ]
     },
     "metadata": {
      "needs_background": "light"
     },
     "output_type": "display_data"
    },
    {
     "name": "stdout",
     "output_type": "stream",
     "text": [
      "-----------------------------------其他 : 乐高-----------------------------------\n",
      "乐高LEGO创意百变三合一系列男孩儿童益智拼装恐龙飞机赛车积木玩具 像素马赛克壁画 31095 游乐场旋转木马（8岁+，595粒）\n",
      "价格：￥ 399.00\n",
      "热度：5000.00\n"
     ]
    },
    {
     "data": {
      "text/html": [
       "<img src=\"https://cdn.kesci.com/upload/rt/CB17E3807E064EBAA056F8F2542BFDE6/sjjmvg3fem.png\">"
      ],
      "text/plain": [
       "<Figure size 504x504 with 1 Axes>"
      ]
     },
     "metadata": {
      "needs_background": "light"
     },
     "output_type": "display_data"
    },
    {
     "name": "stdout",
     "output_type": "stream",
     "text": [
      "-----------------------------------其他 : 乐高-----------------------------------\n",
      "【乐高认证店】乐高（LEGO）积木玩具 百变三合一系列 31095 游乐场旋转木马\n",
      "价格：￥ 409.00\n",
      "热度：2000.00\n"
     ]
    },
    {
     "data": {
      "text/html": [
       "<img src=\"https://cdn.kesci.com/upload/rt/CB17E3807E064EBAA056F8F2542BFDE6/sjjmvgf6p1.png\">"
      ],
      "text/plain": [
       "<Figure size 504x504 with 1 Axes>"
      ]
     },
     "metadata": {
      "needs_background": "light"
     },
     "output_type": "display_data"
    },
    {
     "name": "stdout",
     "output_type": "stream",
     "text": [
      "-----------------------------------其他 : 乐高-----------------------------------\n",
      "乐高LEGO经典创意五位数儿童玩具积木拼插 礼物 推荐款！ 10257旋转木马动力改装配件（不含主体）\n",
      "价格：￥ 328.00\n",
      "热度：200.00\n"
     ]
    },
    {
     "data": {
      "text/html": [
       "<img src=\"https://cdn.kesci.com/upload/rt/CB17E3807E064EBAA056F8F2542BFDE6/sjjmvgcf2e.png\">"
      ],
      "text/plain": [
       "<Figure size 504x504 with 1 Axes>"
      ]
     },
     "metadata": {
      "needs_background": "light"
     },
     "output_type": "display_data"
    }
   ],
   "source": [
    "mask=toys.商品名称.apply(lambda x: re.match('.*旋转木马.*',x)!=None)\n",
    "ix_list=toys.index[mask]\n",
    "for i in ix_list:\n",
    "    show_pic(toys.iloc[i])"
   ]
  },
  {
   "cell_type": "markdown",
   "metadata": {
    "id": "05AAA466364A4208A6B6516EFEB954BE",
    "jupyter": {},
    "mdEditEnable": false,
    "notebookId": "66a370bd5091432f86a3668a",
    "runtime": {
     "execution_status": null,
     "is_visible": false,
     "status": "default"
    },
    "scrolled": false,
    "slideshow": {
     "slide_type": "slide"
    },
    "tags": []
   },
   "source": [
    "结果发现，这家店铺还真是独此一家，物以稀为贵，所以能卖出这样的天价。"
   ]
  },
  {
   "cell_type": "markdown",
   "metadata": {
    "id": "87D34AF95369449A92F448EC3DC9F666",
    "jupyter": {},
    "mdEditEnable": false,
    "notebookId": "66a370bd5091432f86a3668a",
    "runtime": {
     "execution_status": null,
     "is_visible": false,
     "status": "default"
    },
    "scrolled": false,
    "slideshow": {
     "slide_type": "slide"
    },
    "tags": []
   },
   "source": [
    "# 数据分析及可视化"
   ]
  },
  {
   "cell_type": "markdown",
   "metadata": {
    "id": "1667FCCDC824430597CF92EBA75EC42F",
    "jupyter": {},
    "mdEditEnable": false,
    "notebookId": "66a370bd5091432f86a3668a",
    "runtime": {
     "execution_status": null,
     "is_visible": false,
     "status": "default"
    },
    "scrolled": false,
    "slideshow": {
     "slide_type": "slide"
    },
    "tags": []
   },
   "source": [
    "## 不同品类的价格分布"
   ]
  },
  {
   "cell_type": "markdown",
   "metadata": {
    "id": "87D65A58606A40878423094A122EBEC5",
    "jupyter": {},
    "mdEditEnable": false,
    "notebookId": "66a370bd5091432f86a3668a",
    "runtime": {
     "execution_status": null,
     "is_visible": false,
     "status": "default"
    },
    "scrolled": false,
    "slideshow": {
     "slide_type": "slide"
    },
    "tags": []
   },
   "source": [
    "根据高达、奥特曼、乐高3个不同的玩具品类，分别对其产品价格分布进行可视化，并对可视化结果进行比较分析。由于价格分布较广，为了可视化的效果，需对价格取对数。"
   ]
  },
  {
   "cell_type": "code",
   "execution_count": 13,
   "metadata": {
    "collapsed": false,
    "id": "03A48BF9C5C54CECBF01D6017E0F718F",
    "jupyter": {
     "outputs_hidden": false
    },
    "notebookId": "66a370bd5091432f86a3668a",
    "slideshow": {
     "slide_type": "slide"
    },
    "tags": []
   },
   "outputs": [],
   "source": [
    "toy_dict={'高达':gundam,'奥特曼':outman,'乐高':lego}"
   ]
  },
  {
   "cell_type": "code",
   "execution_count": 14,
   "metadata": {
    "collapsed": false,
    "id": "6C74A36AD8E4487D8AD88BF76A5F586E",
    "jupyter": {
     "outputs_hidden": false
    },
    "notebookId": "66a370bd5091432f86a3668a",
    "slideshow": {
     "slide_type": "slide"
    },
    "tags": []
   },
   "outputs": [
    {
     "data": {
      "text/html": [
       "<img src=\"https://cdn.kesci.com/upload/rt/6C74A36AD8E4487D8AD88BF76A5F586E/sjjmvgmasi.png\">"
      ],
      "text/plain": [
       "<Figure size 432x288 with 1 Axes>"
      ]
     },
     "metadata": {
      "needs_background": "light"
     },
     "output_type": "display_data"
    }
   ],
   "source": [
    "for i in toy_dict:\n",
    "    sns.distplot(np.log10(toy_dict[i].价格),label=i,hist=None)\n",
    "plt.legend();"
   ]
  },
  {
   "cell_type": "markdown",
   "metadata": {
    "id": "B8BFF881AFED450998892BE2BB33D09A",
    "jupyter": {},
    "mdEditEnable": false,
    "notebookId": "66a370bd5091432f86a3668a",
    "runtime": {
     "execution_status": null,
     "is_visible": false,
     "status": "default"
    },
    "scrolled": false,
    "slideshow": {
     "slide_type": "slide"
    },
    "tags": []
   },
   "source": [
    "分析上图可以发现：  \n",
    "- 奥特曼类玩具主要分布于2个价格区间，分别是接近100元及100+元，其价格主要分布区间为三者最低。  \n",
    "- 高达主要价格分布于300元左右(10^2.5)，价格位于其他两者中间  \n",
    "- 乐高玩具价格分布与高达类似，但在1000元以上的区间中，仍有较高的分布比例"
   ]
  },
  {
   "cell_type": "markdown",
   "metadata": {
    "id": "2C8ABD51A12946E89FC260D3F02DF09D",
    "jupyter": {},
    "mdEditEnable": false,
    "notebookId": "66a370bd5091432f86a3668a",
    "runtime": {
     "execution_status": null,
     "is_visible": false,
     "status": "default"
    },
    "scrolled": false,
    "slideshow": {
     "slide_type": "slide"
    },
    "tags": []
   },
   "source": [
    "## 不同商家类型的价格分布"
   ]
  },
  {
   "cell_type": "markdown",
   "metadata": {
    "id": "45B409434A6243579C0640798865C5F7",
    "jupyter": {},
    "mdEditEnable": false,
    "notebookId": "66a370bd5091432f86a3668a",
    "runtime": {
     "execution_status": null,
     "is_visible": false,
     "status": "default"
    },
    "scrolled": false,
    "slideshow": {
     "slide_type": "slide"
    },
    "tags": []
   },
   "source": [
    "根据京东自营、品牌旗舰店、其他3个不同的商家类型，分别对其产品价格分布进行可视化，并对可视化结果进行比较分析。由于价格分布较广，为了可视化的效果，需对价格取对数。"
   ]
  },
  {
   "cell_type": "code",
   "execution_count": 15,
   "metadata": {
    "collapsed": false,
    "id": "3EA7FBA3100F4FA79C3BD1944058B653",
    "jupyter": {
     "outputs_hidden": false
    },
    "notebookId": "66a370bd5091432f86a3668a",
    "slideshow": {
     "slide_type": "slide"
    },
    "tags": []
   },
   "outputs": [],
   "source": [
    "cat_data=dict()\n",
    "for i in toys.类型.unique():\n",
    "    cat_data[i]=toys.loc[toys.类型==i]"
   ]
  },
  {
   "cell_type": "code",
   "execution_count": 16,
   "metadata": {
    "collapsed": false,
    "id": "43FD3B3BB68244C08456B98FA76F1BC3",
    "jupyter": {
     "outputs_hidden": false
    },
    "notebookId": "66a370bd5091432f86a3668a",
    "slideshow": {
     "slide_type": "slide"
    },
    "tags": []
   },
   "outputs": [
    {
     "data": {
      "text/html": [
       "<img src=\"https://cdn.kesci.com/upload/rt/43FD3B3BB68244C08456B98FA76F1BC3/sjjmvhev36.png\">"
      ],
      "text/plain": [
       "<Figure size 432x288 with 1 Axes>"
      ]
     },
     "metadata": {
      "needs_background": "light"
     },
     "output_type": "display_data"
    }
   ],
   "source": [
    "for i in toys.类型.unique():\n",
    "    sns.distplot(np.log10(cat_data[i].价格), label=i,hist=None)\n",
    "plt.legend();"
   ]
  },
  {
   "cell_type": "markdown",
   "metadata": {
    "id": "D63FD856208F4324B268229979ABD675",
    "jupyter": {},
    "mdEditEnable": false,
    "notebookId": "66a370bd5091432f86a3668a",
    "runtime": {
     "execution_status": null,
     "is_visible": false,
     "status": "default"
    },
    "scrolled": false,
    "slideshow": {
     "slide_type": "slide"
    },
    "tags": []
   },
   "source": [
    "从上图可以看出：  \n",
    "- 三者价格分布区间差异不大，基本都位于100-1000元之间  \n",
    "- 京东自营店铺价格可以看出较明显的3个峰值，都位于100-1000区间中  \n",
    "- 品牌旗舰店在100-1000区间中有2个较明显的峰值，且右侧峰值较高，说明品牌旗舰店商品价格分布与京东自营类似，只是在1000元附近的商品更多一些  \n",
    "- 其他店铺除了在100-100元区间中有一个分布峰值外，100元以下也有一个，提示其他店铺在100元以下的商品比例比京东自营店或旗舰店多"
   ]
  },
  {
   "cell_type": "markdown",
   "metadata": {
    "id": "DFD66AFEBBD849DBA627A06F45F0C2A8",
    "jupyter": {},
    "mdEditEnable": false,
    "notebookId": "66a370bd5091432f86a3668a",
    "runtime": {
     "execution_status": null,
     "is_visible": false,
     "status": "default"
    },
    "scrolled": false,
    "slideshow": {
     "slide_type": "slide"
    },
    "tags": []
   },
   "source": [
    "## 不同品类的热度分布"
   ]
  },
  {
   "cell_type": "markdown",
   "metadata": {
    "id": "D70F6919C826482E85B209F48B56D1EE",
    "jupyter": {},
    "mdEditEnable": false,
    "notebookId": "66a370bd5091432f86a3668a",
    "runtime": {
     "execution_status": null,
     "is_visible": false,
     "status": "default"
    },
    "scrolled": false,
    "slideshow": {
     "slide_type": "slide"
    },
    "tags": []
   },
   "source": [
    "根据高达、奥特曼、乐高3个不同的玩具品类，分别对其产品热度分布进行可视化，并对可视化结果进行比较分析。由于热度分布较广，为了可视化的效果，需对价格取对数。（部分产品热度为0，为了防止数值错误，统一+1处理）"
   ]
  },
  {
   "cell_type": "code",
   "execution_count": 17,
   "metadata": {
    "collapsed": false,
    "id": "ECC0FA60642F4F2A824103FDEA6D2EFD",
    "jupyter": {
     "outputs_hidden": false
    },
    "notebookId": "66a370bd5091432f86a3668a",
    "slideshow": {
     "slide_type": "slide"
    },
    "tags": []
   },
   "outputs": [
    {
     "data": {
      "text/html": [
       "<img src=\"https://cdn.kesci.com/upload/rt/ECC0FA60642F4F2A824103FDEA6D2EFD/sjjmvhvbyg.png\">"
      ],
      "text/plain": [
       "<Figure size 432x288 with 1 Axes>"
      ]
     },
     "metadata": {
      "needs_background": "light"
     },
     "output_type": "display_data"
    }
   ],
   "source": [
    "for i in toy_dict:\n",
    "    sns.distplot(np.log10(toy_dict[i].热度+1),label=i,hist=None)\n",
    "plt.legend();"
   ]
  },
  {
   "cell_type": "markdown",
   "metadata": {
    "id": "FFE100558F544306A36666818DEF6C6E",
    "jupyter": {},
    "mdEditEnable": false,
    "notebookId": "66a370bd5091432f86a3668a",
    "runtime": {
     "execution_status": null,
     "is_visible": false,
     "status": "default"
    },
    "scrolled": false,
    "slideshow": {
     "slide_type": "slide"
    },
    "tags": []
   },
   "source": [
    "从上图可以大体上看出：  \n",
    "- 3中品类都呈现3峰的分布，分别位于0热度、100热度、1000热度附近  \n",
    "- 热度从高到底依次为乐高、奥特曼、高达"
   ]
  },
  {
   "cell_type": "markdown",
   "metadata": {
    "id": "C2570817509A400A877F96EEC26A0B02",
    "jupyter": {},
    "mdEditEnable": false,
    "notebookId": "66a370bd5091432f86a3668a",
    "runtime": {
     "execution_status": null,
     "is_visible": false,
     "status": "default"
    },
    "scrolled": false,
    "slideshow": {
     "slide_type": "slide"
    },
    "tags": []
   },
   "source": [
    "## 不同商家类型的热度分布"
   ]
  },
  {
   "cell_type": "markdown",
   "metadata": {
    "id": "7C348B23B71241358EA89ACB2F1BD8ED",
    "jupyter": {},
    "mdEditEnable": false,
    "notebookId": "66a370bd5091432f86a3668a",
    "runtime": {
     "execution_status": null,
     "is_visible": false,
     "status": "default"
    },
    "scrolled": false,
    "slideshow": {
     "slide_type": "slide"
    },
    "tags": []
   },
   "source": [
    "根据京东自营、品牌旗舰店、其他3个不同的商家类型，分别对其产品热度分布进行可视化，并对可视化结果进行比较分析。由于热度分布较广，为了可视化的效果，需对价格取对数。（部分产品热度为0，为了防止数值错误，统一+1处理）"
   ]
  },
  {
   "cell_type": "code",
   "execution_count": 18,
   "metadata": {
    "collapsed": false,
    "id": "E2B42AE202264A1986DEF225394112CE",
    "jupyter": {
     "outputs_hidden": false
    },
    "notebookId": "66a370bd5091432f86a3668a",
    "slideshow": {
     "slide_type": "slide"
    },
    "tags": []
   },
   "outputs": [
    {
     "data": {
      "text/html": [
       "<img src=\"https://cdn.kesci.com/upload/rt/E2B42AE202264A1986DEF225394112CE/sjjmvhnrcf.png\">"
      ],
      "text/plain": [
       "<Figure size 432x288 with 1 Axes>"
      ]
     },
     "metadata": {
      "needs_background": "light"
     },
     "output_type": "display_data"
    }
   ],
   "source": [
    "for i in toys.类型.unique():\n",
    "    sns.distplot(np.log10(cat_data[i].热度+1), label=i,hist=False)\n",
    "plt.legend()\n",
    "plt.ylim([0,1.5]);"
   ]
  },
  {
   "cell_type": "markdown",
   "metadata": {
    "id": "8962B17424E24C4787E9450D983D048F",
    "jupyter": {},
    "mdEditEnable": false,
    "notebookId": "66a370bd5091432f86a3668a",
    "runtime": {
     "execution_status": null,
     "is_visible": false,
     "status": "default"
    },
    "scrolled": false,
    "slideshow": {
     "slide_type": "slide"
    },
    "tags": []
   },
   "source": [
    "从上图中可以明显看出：  \n",
    "- 大量品牌旗舰店的商品关注度为0  \n",
    "- 其他类店铺关注度主要分布在3个峰值：0，100，1000，这与之前3类商品的关注分布类似  \n",
    "- 京东自营店铺的大量商品关注度分布在100以上，甚至有部分商品关注度到了10万-100万区间，提示**京东自营的商品更加受消费者信赖**。"
   ]
  },
  {
   "cell_type": "markdown",
   "metadata": {
    "id": "E123DCD5465A40FC8104A1E923D90354",
    "jupyter": {},
    "mdEditEnable": false,
    "notebookId": "66a370bd5091432f86a3668a",
    "runtime": {
     "execution_status": null,
     "is_visible": false,
     "status": "default"
    },
    "scrolled": false,
    "slideshow": {
     "slide_type": "slide"
    },
    "tags": []
   },
   "source": [
    "## 不同品类的购买倾向"
   ]
  },
  {
   "cell_type": "markdown",
   "metadata": {
    "id": "ADD4A99501784C2A93AF748D4FC96BF9",
    "jupyter": {},
    "mdEditEnable": false,
    "notebookId": "66a370bd5091432f86a3668a",
    "runtime": {
     "execution_status": null,
     "is_visible": false,
     "status": "default"
    },
    "scrolled": false,
    "slideshow": {
     "slide_type": "slide"
    },
    "tags": []
   },
   "source": [
    "通过对不同品类商品的购买数量在各个价格区间上的分布进行可视化，探索消费者在不同价格区间上，对各类商品的购买倾向。"
   ]
  },
  {
   "cell_type": "code",
   "execution_count": 19,
   "metadata": {
    "collapsed": false,
    "id": "D35EBBD78F7F44DA8F28715282551BA7",
    "jupyter": {
     "outputs_hidden": false
    },
    "notebookId": "66a370bd5091432f86a3668a",
    "slideshow": {
     "slide_type": "slide"
    },
    "tags": []
   },
   "outputs": [],
   "source": [
    "#定义函数，根据商品数据，绘制商品价格分布（曲线），以及购买数量分布（直方图）\n",
    "def compair_cv(df):\n",
    "    test=[]\n",
    "    for i in df.iterrows():\n",
    "        a=[i[1].价格]\n",
    "        test.extend(a*int(i[1].热度))\n",
    "    sns.distplot(np.log10(test),kde=False,norm_hist=True,label='购买热度')\n",
    "    sns.distplot(np.log10(df.价格),hist=False,label='价格分布')\n",
    "    plt.legend()\n",
    "    plt.xlim([0,5.0]);plt.ylim([0,4.5]) "
   ]
  },
  {
   "cell_type": "code",
   "execution_count": 20,
   "metadata": {
    "collapsed": false,
    "id": "FF56B508A25F424184487223F80F532B",
    "jupyter": {
     "outputs_hidden": false
    },
    "notebookId": "66a370bd5091432f86a3668a",
    "slideshow": {
     "slide_type": "slide"
    },
    "tags": []
   },
   "outputs": [
    {
     "data": {
      "text/html": [
       "<img src=\"https://cdn.kesci.com/upload/rt/FF56B508A25F424184487223F80F532B/sjjmviidlp.png\">"
      ],
      "text/plain": [
       "<Figure size 432x288 with 1 Axes>"
      ]
     },
     "metadata": {
      "needs_background": "light"
     },
     "output_type": "display_data"
    }
   ],
   "source": [
    "compair_cv(gundam)"
   ]
  },
  {
   "cell_type": "markdown",
   "metadata": {
    "id": "BC81F5F0B4D9450186AAF4AC28D6B893",
    "jupyter": {},
    "mdEditEnable": false,
    "notebookId": "66a370bd5091432f86a3668a",
    "runtime": {
     "execution_status": null,
     "is_visible": false,
     "status": "default"
    },
    "scrolled": false,
    "slideshow": {
     "slide_type": "slide"
    },
    "tags": []
   },
   "source": [
    "- 高达类产品  \n",
    "相对于其价格区间，消费者更倾向于购买低价位产品（300元以下），甚至我们可以看到在100元以下，也有较高的热度，于此相对应，300元以上的产品虽然条数较多，但普遍热度较低。接下来，我们可以抽取并展示价格前5的高达产品信息进行验证："
   ]
  },
  {
   "cell_type": "code",
   "execution_count": 21,
   "metadata": {
    "collapsed": false,
    "id": "973775740EE848DBB1F8CB891B01AD82",
    "jupyter": {
     "outputs_hidden": false
    },
    "notebookId": "66a370bd5091432f86a3668a",
    "slideshow": {
     "slide_type": "slide"
    },
    "tags": []
   },
   "outputs": [
    {
     "name": "stdout",
     "output_type": "stream",
     "text": [
      "-----------------------------------其他 : 万代高达-----------------------------------\n",
      "万代（BANDAI） MS解体匠机 高达 模型手办 37cm （全款待定：时间待定）MS 沙扎比\n",
      "价格：￥ 25000.00\n",
      "热度：13.00\n"
     ]
    },
    {
     "data": {
      "text/html": [
       "<img src=\"https://cdn.kesci.com/upload/rt/973775740EE848DBB1F8CB891B01AD82/sjjmvjx8qr.png\">"
      ],
      "text/plain": [
       "<Figure size 504x504 with 1 Axes>"
      ]
     },
     "metadata": {
      "needs_background": "light"
     },
     "output_type": "display_data"
    },
    {
     "name": "stdout",
     "output_type": "stream",
     "text": [
      "-----------------------------------品牌旗舰店 : 万代高达-----------------------------------\n",
      "现货速发万代METAL STRUCTURE 解体匠机 牛高达模型玩具 RX-93 1/60 日版 现货 随机  含运输箱\n",
      "价格：￥ 21999.00\n",
      "热度：0.00\n"
     ]
    },
    {
     "data": {
      "text/html": [
       "<img src=\"https://cdn.kesci.com/upload/rt/973775740EE848DBB1F8CB891B01AD82/sjjmvj5j92.png\">"
      ],
      "text/plain": [
       "<Figure size 504x504 with 1 Axes>"
      ]
     },
     "metadata": {
      "needs_background": "light"
     },
     "output_type": "display_data"
    },
    {
     "name": "stdout",
     "output_type": "stream",
     "text": [
      "-----------------------------------其他 : 万代高达-----------------------------------\n",
      "万代METAL STRUCTURE 解体匠机 牛高达模型玩具 RX-93 1/60圣诞玩具礼物 解体匠牛高达\n",
      "价格：￥ 20000.00\n",
      "热度：21.00\n"
     ]
    },
    {
     "data": {
      "text/html": [
       "<img src=\"https://cdn.kesci.com/upload/rt/973775740EE848DBB1F8CB891B01AD82/sjjmvjo7vr.png\">"
      ],
      "text/plain": [
       "<Figure size 504x504 with 1 Axes>"
      ]
     },
     "metadata": {
      "needs_background": "light"
     },
     "output_type": "display_data"
    },
    {
     "name": "stdout",
     "output_type": "stream",
     "text": [
      "-----------------------------------其他 : 万代高达-----------------------------------\n",
      "生日礼物BANDAI  METAL BUILD MB 强袭自由高达 会场魂蓝再版初版光翼 强袭自由(魂限定再版)+光翼\n",
      "价格：￥ 12500.00\n",
      "热度：1.00\n"
     ]
    },
    {
     "data": {
      "text/html": [
       "<img src=\"https://cdn.kesci.com/upload/rt/973775740EE848DBB1F8CB891B01AD82/sjjmvjrihc.png\">"
      ],
      "text/plain": [
       "<Figure size 504x504 with 1 Axes>"
      ]
     },
     "metadata": {
      "needs_background": "light"
     },
     "output_type": "display_data"
    },
    {
     "name": "stdout",
     "output_type": "stream",
     "text": [
      "-----------------------------------其他 : 万代高达-----------------------------------\n",
      "高达模型AZA场景万代00rpg花海mg代工100情景60合金exia高达00 花海\n",
      "价格：￥ 9100.00\n",
      "热度：0.00\n"
     ]
    },
    {
     "data": {
      "text/html": [
       "<img src=\"https://cdn.kesci.com/upload/rt/973775740EE848DBB1F8CB891B01AD82/sjjmvktfsv.png\">"
      ],
      "text/plain": [
       "<Figure size 504x504 with 1 Axes>"
      ]
     },
     "metadata": {
      "needs_background": "light"
     },
     "output_type": "display_data"
    }
   ],
   "source": [
    "toplist=gundam.sort_values(by=['价格'],ascending=False)[:5].index\n",
    "for i in toplist:\n",
    "    show_pic(gundam.loc[i])"
   ]
  },
  {
   "cell_type": "markdown",
   "metadata": {
    "id": "B9A22DA7C265456C8BC1B7EDCDE7090F",
    "jupyter": {},
    "mdEditEnable": false,
    "notebookId": "66a370bd5091432f86a3668a",
    "runtime": {
     "execution_status": null,
     "is_visible": false,
     "status": "default"
    },
    "scrolled": false,
    "slideshow": {
     "slide_type": "slide"
    },
    "tags": []
   },
   "source": [
    "可以看到与我们的判断一致，这些产品售价都较高（万元以上），但热度都在30以下。提示高达类高价产品的溢价普遍较高。"
   ]
  },
  {
   "cell_type": "code",
   "execution_count": 22,
   "metadata": {
    "collapsed": false,
    "id": "EF68D7CBE7084F1E8BC0C8003A594FC6",
    "jupyter": {
     "outputs_hidden": false
    },
    "notebookId": "66a370bd5091432f86a3668a",
    "slideshow": {
     "slide_type": "slide"
    },
    "tags": []
   },
   "outputs": [
    {
     "data": {
      "text/html": [
       "<img src=\"https://cdn.kesci.com/upload/rt/EF68D7CBE7084F1E8BC0C8003A594FC6/sjjmvliyar.png\">"
      ],
      "text/plain": [
       "<Figure size 432x288 with 1 Axes>"
      ]
     },
     "metadata": {
      "needs_background": "light"
     },
     "output_type": "display_data"
    }
   ],
   "source": [
    "compair_cv(outman)"
   ]
  },
  {
   "cell_type": "markdown",
   "metadata": {
    "id": "E6334DB943834C0185371F52912BDCC2",
    "jupyter": {},
    "mdEditEnable": false,
    "notebookId": "66a370bd5091432f86a3668a",
    "runtime": {
     "execution_status": null,
     "is_visible": false,
     "status": "default"
    },
    "scrolled": false,
    "slideshow": {
     "slide_type": "slide"
    },
    "tags": []
   },
   "source": [
    "- 奥特曼类产品  \n",
    "可以看到奥特曼类产品的热度主要也都分布在其价格曲线峰值附近，300元以上的购买量较少，但与高达类产品不同，奥特曼类产品在高价区间购买量较低的主要原因可能是在300，甚至1000元以上本身产品数量就较少，因此热度较低也就不奇怪了。下面我们比较下1000元以上高达和奥特曼的产品数量："
   ]
  },
  {
   "cell_type": "code",
   "execution_count": 23,
   "metadata": {
    "collapsed": false,
    "id": "B24FAECBC23C4A9B8ED3F16B258564B3",
    "jupyter": {
     "outputs_hidden": false
    },
    "notebookId": "66a370bd5091432f86a3668a",
    "slideshow": {
     "slide_type": "slide"
    },
    "tags": []
   },
   "outputs": [
    {
     "name": "stdout",
     "output_type": "stream",
     "text": [
      "1000元以上奥特曼产品有244款\n",
      "1000元以上高达产品有823款\n"
     ]
    }
   ],
   "source": [
    "count_outman=len(outman.loc[outman.价格>1000])\n",
    "count_gundam=len(gundam.loc[gundam.价格>1000])\n",
    "print('1000元以上奥特曼产品有%d款'% count_outman)\n",
    "print('1000元以上高达产品有%d款'% count_gundam)"
   ]
  },
  {
   "cell_type": "code",
   "execution_count": 24,
   "metadata": {
    "collapsed": false,
    "id": "0049CAD0669C4F5F9D771922B7EF032E",
    "jupyter": {
     "outputs_hidden": false
    },
    "notebookId": "66a370bd5091432f86a3668a",
    "slideshow": {
     "slide_type": "slide"
    },
    "tags": []
   },
   "outputs": [
    {
     "data": {
      "text/html": [
       "<img src=\"https://cdn.kesci.com/upload/rt/0049CAD0669C4F5F9D771922B7EF032E/sjjmvovz18.png\">"
      ],
      "text/plain": [
       "<Figure size 432x288 with 1 Axes>"
      ]
     },
     "metadata": {
      "needs_background": "light"
     },
     "output_type": "display_data"
    }
   ],
   "source": [
    "compair_cv(lego)"
   ]
  },
  {
   "cell_type": "markdown",
   "metadata": {
    "id": "744291F4C8FA446986220AE33CAE9D1E",
    "jupyter": {},
    "mdEditEnable": false,
    "notebookId": "66a370bd5091432f86a3668a",
    "runtime": {
     "execution_status": null,
     "is_visible": false,
     "status": "default"
    },
    "scrolled": false,
    "slideshow": {
     "slide_type": "slide"
    },
    "tags": []
   },
   "source": [
    "- 乐高类产品  \n",
    "上图中可以看出，与高达类产品的高价位区间明显热度下降不同，乐高类产品的购买热度分布几乎与其价格曲线一致，因此我们可以认为，各个价格段的乐高产品都得到了消费者一定程度上的认可。对此，我们可以比较1000元以上区间内高达产品及乐高产品的热度来进行验证："
   ]
  },
  {
   "cell_type": "code",
   "execution_count": 25,
   "metadata": {
    "collapsed": false,
    "id": "FA99AA242FF9473E88C9DF76E9AAF58C",
    "jupyter": {
     "outputs_hidden": false
    },
    "notebookId": "66a370bd5091432f86a3668a",
    "slideshow": {
     "slide_type": "slide"
    },
    "tags": []
   },
   "outputs": [
    {
     "name": "stdout",
     "output_type": "stream",
     "text": [
      "-----------------------------------其他 : 万代高达-----------------------------------\n",
      "万代（BANDAI） RG 高达2 拼装模型玩具 14cm RG 独角兽3号机电镀\n",
      "价格：￥ 1199.00\n",
      "热度：3000.00\n"
     ]
    },
    {
     "data": {
      "text/html": [
       "<img src=\"https://cdn.kesci.com/upload/rt/FA99AA242FF9473E88C9DF76E9AAF58C/sjjmvors7c.png\">"
      ],
      "text/plain": [
       "<Figure size 504x504 with 1 Axes>"
      ]
     },
     "metadata": {
      "needs_background": "light"
     },
     "output_type": "display_data"
    },
    {
     "name": "stdout",
     "output_type": "stream",
     "text": [
      "-----------------------------------其他 : 万代高达-----------------------------------\n",
      "万代（BANDAI） MG 高达2 拼装模型玩具 18cm MG 深度强袭\n",
      "价格：￥ 1290.00\n",
      "热度：2000.00\n"
     ]
    },
    {
     "data": {
      "text/html": [
       "<img src=\"https://cdn.kesci.com/upload/rt/FA99AA242FF9473E88C9DF76E9AAF58C/sjjmvp1z0t.png\">"
      ],
      "text/plain": [
       "<Figure size 504x504 with 1 Axes>"
      ]
     },
     "metadata": {
      "needs_background": "light"
     },
     "output_type": "display_data"
    },
    {
     "name": "stdout",
     "output_type": "stream",
     "text": [
      "-----------------------------------其他 : 万代高达-----------------------------------\n",
      "万代（BANDAI） PG 高达 拼装模型玩具 30cm PG 00R强化模组\n",
      "价格：￥ 1490.00\n",
      "热度：1000.00\n"
     ]
    },
    {
     "data": {
      "text/html": [
       "<img src=\"https://cdn.kesci.com/upload/rt/FA99AA242FF9473E88C9DF76E9AAF58C/sjjmvpy5fm.png\">"
      ],
      "text/plain": [
       "<Figure size 504x504 with 1 Axes>"
      ]
     },
     "metadata": {
      "needs_background": "light"
     },
     "output_type": "display_data"
    }
   ],
   "source": [
    "#1000元以上高达类产品热度排名前3\n",
    "toplist=gundam.loc[gundam.价格>1000,:].sort_values(by=['热度'],ascending=False)[:3].index\n",
    "for i in toplist:\n",
    "    show_pic(gundam.loc[i])"
   ]
  },
  {
   "cell_type": "code",
   "execution_count": 26,
   "metadata": {
    "collapsed": false,
    "id": "6C5EDBB09F4D4A288F383A3617016C7C",
    "jupyter": {
     "outputs_hidden": false
    },
    "notebookId": "66a370bd5091432f86a3668a",
    "slideshow": {
     "slide_type": "slide"
    },
    "tags": []
   },
   "outputs": [
    {
     "name": "stdout",
     "output_type": "stream",
     "text": [
      "-----------------------------------京东自营 : 乐高-----------------------------------\n",
      "京东超市\t\n",
      "乐高(LEGO)积木 得宝10933 忙碌的建筑基地2岁+大颗粒早教儿童玩具  吊车挖掘车 男孩女孩 生日礼物6月上新\n",
      "价格：￥ 1059.00\n",
      "热度：200000.00\n"
     ]
    },
    {
     "data": {
      "text/html": [
       "<img src=\"https://cdn.kesci.com/upload/rt/6C5EDBB09F4D4A288F383A3617016C7C/sjjmvp8emw.png\">"
      ],
      "text/plain": [
       "<Figure size 504x504 with 1 Axes>"
      ]
     },
     "metadata": {
      "needs_background": "light"
     },
     "output_type": "display_data"
    },
    {
     "name": "stdout",
     "output_type": "stream",
     "text": [
      "-----------------------------------京东自营 : 乐高-----------------------------------\n",
      "京东超市\t\n",
      "乐高(LEGO)积木 机械组Technic保时捷 911 RSR赛车10岁+ 42096 生日新年礼物 儿童玩具 男孩女孩 粉丝收藏\n",
      "价格：￥ 1199.00\n",
      "热度：100000.00\n"
     ]
    },
    {
     "data": {
      "text/html": [
       "<img src=\"https://cdn.kesci.com/upload/rt/6C5EDBB09F4D4A288F383A3617016C7C/sjjmvp9a44.png\">"
      ],
      "text/plain": [
       "<Figure size 504x504 with 1 Axes>"
      ]
     },
     "metadata": {
      "needs_background": "light"
     },
     "output_type": "display_data"
    },
    {
     "name": "stdout",
     "output_type": "stream",
     "text": [
      "-----------------------------------京东自营 : 乐高-----------------------------------\n",
      "京东超市\t\n",
      "乐高(LEGO)积木 IDEAS系列92176 美国宇航局阿波罗土星五号14岁+生日新年礼物 儿童玩具 男孩女孩11月上新\n",
      "价格：￥ 1099.00\n",
      "热度：100000.00\n"
     ]
    },
    {
     "data": {
      "text/html": [
       "<img src=\"https://cdn.kesci.com/upload/rt/6C5EDBB09F4D4A288F383A3617016C7C/sjjmvqvsi9.png\">"
      ],
      "text/plain": [
       "<Figure size 504x504 with 1 Axes>"
      ]
     },
     "metadata": {
      "needs_background": "light"
     },
     "output_type": "display_data"
    }
   ],
   "source": [
    "#1000元以上乐高类产品热度排名前3\n",
    "toplist=lego.loc[lego.价格>1000,:].sort_values(by=['热度'],ascending=False)[:3].index\n",
    "for i in toplist:\n",
    "    show_pic(lego.loc[i])"
   ]
  },
  {
   "cell_type": "markdown",
   "metadata": {
    "id": "73AD9C23175E40268706F82B11395222",
    "jupyter": {},
    "mdEditEnable": false,
    "notebookId": "66a370bd5091432f86a3668a",
    "runtime": {
     "execution_status": null,
     "is_visible": false,
     "status": "default"
    },
    "scrolled": false,
    "slideshow": {
     "slide_type": "slide"
    },
    "tags": []
   },
   "source": [
    "从以上结果可以看出，两者热度差异巨大，高达类产品热度为1000-3000，乐高类为10万-20万，这验证了我们之前的结论。"
   ]
  },
  {
   "cell_type": "markdown",
   "metadata": {
    "id": "F225FF83B63E4D528C3822480C0C1BDD",
    "jupyter": {},
    "mdEditEnable": false,
    "notebookId": "66a370bd5091432f86a3668a",
    "runtime": {
     "execution_status": null,
     "is_visible": false,
     "status": "default"
    },
    "scrolled": false,
    "slideshow": {
     "slide_type": "slide"
    },
    "tags": []
   },
   "source": [
    "## 不同商家类型的购买倾向"
   ]
  },
  {
   "cell_type": "code",
   "execution_count": 27,
   "metadata": {
    "collapsed": false,
    "id": "CD72B1D19F9D48828366075F8748445B",
    "jupyter": {
     "outputs_hidden": false
    },
    "notebookId": "66a370bd5091432f86a3668a",
    "slideshow": {
     "slide_type": "slide"
    },
    "tags": []
   },
   "outputs": [
    {
     "data": {
      "text/html": [
       "<img src=\"https://cdn.kesci.com/upload/rt/CD72B1D19F9D48828366075F8748445B/sjjmvsys5s.png\">"
      ],
      "text/plain": [
       "<Figure size 432x288 with 1 Axes>"
      ]
     },
     "metadata": {
      "needs_background": "light"
     },
     "output_type": "display_data"
    }
   ],
   "source": [
    "#其他\n",
    "compair_cv(cat_data['其他'])"
   ]
  },
  {
   "cell_type": "code",
   "execution_count": 28,
   "metadata": {
    "collapsed": false,
    "id": "0125B3F81A454C0B8834DCF2D6FEAB31",
    "jupyter": {
     "outputs_hidden": false
    },
    "notebookId": "66a370bd5091432f86a3668a",
    "slideshow": {
     "slide_type": "slide"
    },
    "tags": []
   },
   "outputs": [
    {
     "data": {
      "text/html": [
       "<img src=\"https://cdn.kesci.com/upload/rt/0125B3F81A454C0B8834DCF2D6FEAB31/sjjmvttifq.png\">"
      ],
      "text/plain": [
       "<Figure size 432x288 with 1 Axes>"
      ]
     },
     "metadata": {
      "needs_background": "light"
     },
     "output_type": "display_data"
    }
   ],
   "source": [
    "#品牌旗舰店\n",
    "compair_cv(cat_data['品牌旗舰店'])"
   ]
  },
  {
   "cell_type": "code",
   "execution_count": 29,
   "metadata": {
    "collapsed": false,
    "id": "0C427781726B44B191C75D2498331DAA",
    "jupyter": {
     "outputs_hidden": false
    },
    "notebookId": "66a370bd5091432f86a3668a",
    "slideshow": {
     "slide_type": "slide"
    },
    "tags": []
   },
   "outputs": [
    {
     "data": {
      "text/html": [
       "<img src=\"https://cdn.kesci.com/upload/rt/0C427781726B44B191C75D2498331DAA/sjjmvvy3qq.png\">"
      ],
      "text/plain": [
       "<Figure size 432x288 with 1 Axes>"
      ]
     },
     "metadata": {
      "needs_background": "light"
     },
     "output_type": "display_data"
    }
   ],
   "source": [
    "#京东自营\n",
    "compair_cv(cat_data['京东自营'])"
   ]
  },
  {
   "cell_type": "markdown",
   "metadata": {
    "id": "623F07C7ECBD4E1A8059213413FCDC41",
    "jupyter": {},
    "mdEditEnable": false,
    "notebookId": "66a370bd5091432f86a3668a",
    "runtime": {
     "execution_status": null,
     "is_visible": false,
     "status": "default"
    },
    "scrolled": false,
    "slideshow": {
     "slide_type": "slide"
    },
    "tags": []
   },
   "source": [
    "比较以上3图，可以发现：  \n",
    "- 对于其他类店铺，购买热度分布相对价格曲线向左偏移，提示对于其他类店铺，消费者更倾向于购买低价位产品  \n",
    "- 对于品牌旗舰店，购买热度分布相对价格曲线向右偏移，提示对于品牌旗舰店，消费者更倾向于购买高价位产品  \n",
    "- 对于京东自营店铺，购买热度分布与价格曲线基本一致，提示对于京东自营店铺，消费者没有比较明显的购买倾向"
   ]
  },
  {
   "cell_type": "markdown",
   "metadata": {
    "id": "FD9394B990A14377AD0298D230D9CE55",
    "jupyter": {},
    "mdEditEnable": false,
    "notebookId": "66a370bd5091432f86a3668a",
    "runtime": {
     "execution_status": null,
     "is_visible": false,
     "status": "default"
    },
    "scrolled": false,
    "slideshow": {
     "slide_type": "slide"
    },
    "tags": []
   },
   "source": [
    "# 结论"
   ]
  },
  {
   "cell_type": "markdown",
   "metadata": {
    "id": "513FA00F45E741D6946F47A2EAE370BA",
    "jupyter": {},
    "mdEditEnable": false,
    "notebookId": "66a370bd5091432f86a3668a",
    "runtime": {
     "execution_status": null,
     "is_visible": false,
     "status": "default"
    },
    "scrolled": false,
    "slideshow": {
     "slide_type": "slide"
    },
    "tags": []
   },
   "source": [
    "综上，我们已经可以回答开头提出的几个问题了"
   ]
  },
  {
   "cell_type": "markdown",
   "metadata": {
    "id": "C8E31288EBCA42CCB4AC929C59D17F59",
    "jupyter": {},
    "mdEditEnable": false,
    "notebookId": "66a370bd5091432f86a3668a",
    "runtime": {
     "execution_status": null,
     "is_visible": false,
     "status": "default"
    },
    "scrolled": false,
    "slideshow": {
     "slide_type": "slide"
    },
    "tags": []
   },
   "source": [
    "## 最受欢迎的产品是什么？"
   ]
  },
  {
   "cell_type": "code",
   "execution_count": 30,
   "metadata": {
    "collapsed": false,
    "id": "908E5E5F9D5B46648CDE36B270C0410A",
    "jupyter": {
     "outputs_hidden": false
    },
    "notebookId": "66a370bd5091432f86a3668a",
    "slideshow": {
     "slide_type": "slide"
    },
    "tags": []
   },
   "outputs": [
    {
     "name": "stdout",
     "output_type": "stream",
     "text": [
      "-----------------------------------京东自营 : 乐高-----------------------------------\n",
      "京东超市\t\n",
      "乐高(LEGO)积木 经典创意10698 大号积木盒 4-99岁 儿童玩具 男孩女孩 生日新年礼物 小颗粒\n",
      "价格：￥ 419.00\n",
      "热度：300000.00\n"
     ]
    },
    {
     "data": {
      "text/html": [
       "<img src=\"https://cdn.kesci.com/upload/rt/908E5E5F9D5B46648CDE36B270C0410A/sjjmvv3agn.png\">"
      ],
      "text/plain": [
       "<Figure size 504x504 with 1 Axes>"
      ]
     },
     "metadata": {
      "needs_background": "light"
     },
     "output_type": "display_data"
    }
   ],
   "source": [
    "ix=toys.热度.idxmax()\n",
    "show_pic(toys.iloc[ix])"
   ]
  },
  {
   "cell_type": "markdown",
   "metadata": {
    "id": "F3CE9269EA1442789C7E76D7413D7528",
    "jupyter": {},
    "mdEditEnable": false,
    "notebookId": "66a370bd5091432f86a3668a",
    "runtime": {
     "execution_status": null,
     "is_visible": false,
     "status": "default"
    },
    "scrolled": false,
    "slideshow": {
     "slide_type": "slide"
    },
    "tags": []
   },
   "source": [
    "## 什么品牌的产品单价最贵？"
   ]
  },
  {
   "cell_type": "code",
   "execution_count": 31,
   "metadata": {
    "collapsed": false,
    "id": "CEADF4BD4B91407E96F8756B36D36DA2",
    "jupyter": {
     "outputs_hidden": false
    },
    "notebookId": "66a370bd5091432f86a3668a",
    "slideshow": {
     "slide_type": "slide"
    },
    "tags": []
   },
   "outputs": [
    {
     "name": "stdout",
     "output_type": "stream",
     "text": [
      "-----------------------------------其他 : 乐高-----------------------------------\n",
      "乐高 LEGO 10196 旋转木马 绝版 积木玩具\n",
      "价格：￥ 39980.00\n",
      "热度：0.00\n"
     ]
    },
    {
     "data": {
      "text/html": [
       "<img src=\"https://cdn.kesci.com/upload/rt/CEADF4BD4B91407E96F8756B36D36DA2/sjjmvwy7jt.png\">"
      ],
      "text/plain": [
       "<Figure size 504x504 with 1 Axes>"
      ]
     },
     "metadata": {
      "needs_background": "light"
     },
     "output_type": "display_data"
    }
   ],
   "source": [
    "ix=toys.价格.idxmax()\n",
    "show_pic(toys.iloc[ix])"
   ]
  },
  {
   "cell_type": "markdown",
   "metadata": {
    "id": "E3D38A05E4CD469195D2EE822AD670F2",
    "jupyter": {},
    "mdEditEnable": false,
    "notebookId": "66a370bd5091432f86a3668a",
    "runtime": {
     "execution_status": null,
     "is_visible": false,
     "status": "default"
    },
    "scrolled": false,
    "slideshow": {
     "slide_type": "slide"
    },
    "tags": []
   },
   "source": [
    "## 单价高的产品是否存在溢价？"
   ]
  },
  {
   "cell_type": "markdown",
   "metadata": {
    "id": "D1FEA3A610244CF983E6B6F9C739BD76",
    "jupyter": {},
    "mdEditEnable": false,
    "notebookId": "66a370bd5091432f86a3668a",
    "runtime": {
     "execution_status": null,
     "is_visible": false,
     "status": "default"
    },
    "scrolled": false,
    "slideshow": {
     "slide_type": "slide"
    },
    "tags": []
   },
   "source": [
    "通过前面的分析，我们可以得出结论：  \n",
    "- 对于奥特曼类产品，高价区间产品品类本身较少  \n",
    "- 对于高达类产品，高价区间有较多产品并没有获得很高的购买热度，这可能是高溢价导致的  \n",
    "- 对于乐高类产品，与高达不同，虽然高价区间有很多产品，但销量相对高达类都更加客观，证明消费者比较认可高价位的乐高产品"
   ]
  },
  {
   "cell_type": "markdown",
   "metadata": {
    "id": "F5E622737C264BE58DDD5A64F103B2E9",
    "jupyter": {},
    "mdEditEnable": false,
    "notebookId": "66a370bd5091432f86a3668a",
    "runtime": {
     "execution_status": null,
     "is_visible": false,
     "status": "default"
    },
    "scrolled": false,
    "slideshow": {
     "slide_type": "slide"
    },
    "tags": []
   },
   "source": [
    "## 能否给过年送礼一些建议？"
   ]
  },
  {
   "cell_type": "markdown",
   "metadata": {
    "id": "B581BCB2A109458CAAF87A2FD4D5E292",
    "jupyter": {},
    "mdEditEnable": false,
    "notebookId": "66a370bd5091432f86a3668a",
    "runtime": {
     "execution_status": null,
     "is_visible": false,
     "status": "default"
    },
    "scrolled": false,
    "slideshow": {
     "slide_type": "slide"
    },
    "tags": []
   },
   "source": [
    "- 根据品类的丰富程度，如果选择低价位（100元以下）的礼物，奥特曼类产品选择较多，中高价位(100-1000元），乐高和高达类产品可选都较多。  \n",
    "- 从产品热度来看，乐高类产品明显更受欢迎，如果不知道选什么的话，选乐高还是比较保险的  \n",
    "- 从商家类型来看，大家对京东自营店铺更加认可，建议选择"
   ]
  },
  {
   "cell_type": "markdown",
   "metadata": {
    "id": "6CFBD21846004E0586DC9DD22E254009",
    "jupyter": {},
    "mdEditEnable": false,
    "notebookId": "66a370bd5091432f86a3668a",
    "runtime": {
     "execution_status": null,
     "is_visible": false,
     "status": "default"
    },
    "scrolled": false,
    "slideshow": {
     "slide_type": "slide"
    },
    "tags": []
   },
   "source": [
    "## 消费者更喜欢在旗舰店购买产品吗？"
   ]
  },
  {
   "cell_type": "markdown",
   "metadata": {
    "id": "BC19153D99694F48887A59CC7C76BD17",
    "jupyter": {},
    "mdEditEnable": false,
    "notebookId": "66a370bd5091432f86a3668a",
    "runtime": {
     "execution_status": null,
     "is_visible": false,
     "status": "default"
    },
    "scrolled": false,
    "slideshow": {
     "slide_type": "slide"
    },
    "tags": []
   },
   "source": [
    "从不同商家类型的产品热度分布比较来看，京东自营店铺的热度明显高于品牌旗舰店和其他店铺类型。"
   ]
  }
 ],
 "metadata": {
  "kernelspec": {
   "display_name": "Python 3 (ipykernel)",
   "language": "python",
   "name": "python3"
  },
  "language_info": {
   "codemirror_mode": {
    "name": "ipython",
    "version": 3
   },
   "file_extension": ".py",
   "mimetype": "text/x-python",
   "name": "python",
   "nbconvert_exporter": "python",
   "pygments_lexer": "ipython3",
   "version": "3.12.4"
  }
 },
 "nbformat": 4,
 "nbformat_minor": 4
}
